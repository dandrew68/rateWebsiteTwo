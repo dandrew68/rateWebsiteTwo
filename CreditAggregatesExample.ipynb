{
 "cells": [
  {
   "cell_type": "code",
   "execution_count": 14,
   "id": "informational-receipt",
   "metadata": {
    "tags": [
     "{",
     "\"tags\":",
     "[",
     "\"hide-input\"",
     "]",
     "}",
     "hide-input"
    ]
   },
   "outputs": [],
   "source": [
    "#Things to do:\n",
    "#    -Make charts nicer\n",
    "#    -Standardise the date axes\n",
    "#    -Use bar charts for short term charts\n",
    "#    -Standardise the date axes\n",
    "#    -Use bar charts for short term charts\n",
    "#    -Change the chart fonts"
   ]
  },
  {
   "cell_type": "code",
   "execution_count": null,
   "id": "63d6c41f-73a0-4a38-ad48-03a199315818",
   "metadata": {},
   "outputs": [],
   "source": []
  },
  {
   "cell_type": "code",
   "execution_count": 15,
   "id": "cleared-package",
   "metadata": {
    "tags": [
     "{",
     "\"tags\"",
     ":",
     "[\"remove-cell\"]}"
    ]
   },
   "outputs": [],
   "source": [
    "#Necessary packages\n",
    "import pandas as pd\n",
    "import requests\n",
    "import matplotlib\n",
    "import matplotlib.pyplot as plt\n",
    "from datetime import datetime\n",
    "import numpy as np\n",
    "import calendar\n",
    "import plotly.express as px\n",
    "\n",
    "from matplotlib import rc\n",
    "    #rc('font',**{'family':'sans-serif','sans-serif':['Helvetica']})\n",
    "#rc('font',**{'family':'serif','serif':['Times']})\n",
    "\n",
    "matplotlib.rcParams.update({'font.size': 22})"
   ]
  },
  {
   "cell_type": "code",
   "execution_count": 16,
   "id": "a9ff2d06-9865-4e4a-8e39-a7de35de53ea",
   "metadata": {},
   "outputs": [
    {
     "data": {
      "text/html": [
       "\n",
       "<style>\n",
       ".output_png {\n",
       "    display: table-cell;\n",
       "    text-align: center;\n",
       "    vertical-align: middle;\n",
       "}\n",
       "</style>\n"
      ],
      "text/plain": [
       "<IPython.core.display.HTML object>"
      ]
     },
     "execution_count": 16,
     "metadata": {},
     "output_type": "execute_result"
    }
   ],
   "source": [
    "from IPython.core.display import HTML\n",
    "HTML(\"\"\"\n",
    "<style>\n",
    ".output_png {\n",
    "    display: table-cell;\n",
    "    text-align: center;\n",
    "    vertical-align: middle;\n",
    "}\n",
    "</style>\n",
    "\"\"\")"
   ]
  },
  {
   "cell_type": "markdown",
   "id": "6c588a1a",
   "metadata": {},
   "source": [
    "# RBA Financial Aggregates - Key Graphs"
   ]
  },
  {
   "cell_type": "code",
   "execution_count": 17,
   "id": "3dae2bbf",
   "metadata": {},
   "outputs": [
    {
     "name": "stdout",
     "output_type": "stream",
     "text": [
      "Graphs and data updated at 21:45:58 on 12-06-2024\n"
     ]
    }
   ],
   "source": [
    "now = datetime.now()\n",
    "\n",
    "current_time = now.strftime(\"%H:%M:%S\")\n",
    "current_date = now.strftime(\"%d-%m-%Y\")\n",
    "current_date_and_time = now.strftime(\"%H:%M:%S %d-%m-%Y\")\n",
    "#print(\"Graphs updated at \" + current_time + \" on \" + current_date)\n",
    "print(\"Graphs and data updated at \" + current_time + \" on \" + current_date)"
   ]
  },
  {
   "cell_type": "code",
   "execution_count": 18,
   "id": "peaceful-irish",
   "metadata": {
    "tags": [
     "{\"tags\":[\"remove_cell\"]}"
    ]
   },
   "outputs": [],
   "source": [
    "# The location\n",
    "url = 'https://www.rba.gov.au/statistics/tables/xls/d01hist.xlsx'"
   ]
  },
  {
   "cell_type": "code",
   "execution_count": 19,
   "id": "peaceful-telling",
   "metadata": {
    "editable": true,
    "slideshow": {
     "slide_type": ""
    },
    "tags": []
   },
   "outputs": [],
   "source": [
    "# Get the file\n",
    "resp = requests.get(url)"
   ]
  },
  {
   "cell_type": "code",
   "execution_count": 20,
   "id": "educated-scheduling",
   "metadata": {},
   "outputs": [],
   "source": [
    "# Open a new file to save down as\n",
    "output = open('d01.xls', 'wb')\n",
    "output.write(resp.content)\n",
    "output.close()"
   ]
  },
  {
   "cell_type": "code",
   "execution_count": 21,
   "id": "chemical-poetry",
   "metadata": {
    "scrolled": true
   },
   "outputs": [],
   "source": [
    "df = pd.read_excel('d01.xls');"
   ]
  },
  {
   "cell_type": "code",
   "execution_count": 22,
   "id": "official-recipient",
   "metadata": {},
   "outputs": [],
   "source": [
    "# Name the columns after the first row\n",
    "df.columns = df.iloc[0];\n",
    "#df.head(3) #Look at the first 15 rows of the data frame"
   ]
  },
  {
   "cell_type": "code",
   "execution_count": 23,
   "id": "enhanced-fortune",
   "metadata": {},
   "outputs": [],
   "source": [
    "df = df[10:] #Remove the rows of metadata\n",
    "df.columns = df.columns.str.replace('Title', 'Date') #Rename the date column\n",
    "#df.head(3)"
   ]
  },
  {
   "cell_type": "code",
   "execution_count": 24,
   "id": "0f5de924",
   "metadata": {},
   "outputs": [
    {
     "name": "stdout",
     "output_type": "stream",
     "text": [
      "Most recent data is for April 2024\n"
     ]
    }
   ],
   "source": [
    "last_data = df[\"Date\"].iloc[-1]\n",
    "print(\"Most recent data is for \"+ calendar.month_name[last_data.month] \n",
    "      + \" \" + str(last_data.year))"
   ]
  },
  {
   "cell_type": "code",
   "execution_count": 25,
   "id": "postal-puzzle",
   "metadata": {},
   "outputs": [],
   "source": [
    "def graph_series(seriesName, data, startDate, endDate, lastPointOption):\n",
    "    \n",
    "    #Get the data\n",
    "    values = data[seriesName]\n",
    "    dates = data[\"Date\"]\n",
    "    \n",
    "    #Filter to the desired date range\n",
    "    mask = (data.loc[:,'Date'] >= startDate) & (data.loc[:,'Date'] <= endDate)\n",
    "    dataToGraph = values.loc[mask]\n",
    "    datesToGraph = dates.loc[mask]\n",
    "    \n",
    "    #print(dataToGraph)\n",
    "    #print(datesToGraph)\n",
    "    \n",
    "    #print(datesToGraph.iloc[-1])\n",
    "    \n",
    "    #Only use years as labels on the horizontal axis\n",
    "    yearsToGraph = [date for date in datesToGraph if date.month == 1]\n",
    "    \n",
    "    ###If last datapoint is December, add an extra year to this. \n",
    "        \n",
    "    lastDate = yearsToGraph[-1]\n",
    "    \n",
    "    if lastDate.month == 12:\n",
    "        nextYear = lastDate.year + 1\n",
    "        aYearLater = lastDate.replace(year = nextYear, month=12, day=31)\n",
    "        yearsToGraph.append(aYearLater)\n",
    "        \n",
    "    #print(\"Years to graph is :\")\n",
    "    #print(yearsToGraph)\n",
    "    \n",
    "        #Just hashed out for a test\n",
    "    plt.rcParams.update({'font.size': 14})\n",
    "    font = {'size'   : 14}\n",
    "    matplotlib.rc('font', **font)\n",
    "    \n",
    "    # Create a figure containing a single axes.\n",
    "    fig = px.scatter(df, x=datesToGraph, y=seriesName)\n",
    "\n",
    "    \n",
    "    \n",
    "    fig.set_size_inches(7, 5, forward=True)\n",
    "    \n",
    "\n",
    "    \n",
    "    #plt.rcParams.update({'font.size': 22})\n",
    "    \n",
    "    #If more than 10 years, cuts the labelling and ticks down to every second year\n",
    "    if len(yearsToGraph) > 12:\n",
    "        yearsToGraph = [date for date in datesToGraph if date.month == 1 \n",
    "                        and (date.year % 2 == 0)]\n",
    "    \n",
    "    #print(\"Years to graph is (altered possibly for 10+ years) :\") \n",
    "    #print(yearsToGraph)\n",
    "    \n",
    "    # X-ticks set as calculated above\n",
    "    ax.set_xticks(yearsToGraph)\n",
    "    \n",
    "    #print(yearsToGraph)\n",
    "    \n",
    "    #Extract year labels\n",
    "    yearsOnly = [date.year for date in yearsToGraph if date.month == 1 ]\n",
    "    \n",
    "    # Make the figure\n",
    "\n",
    "    \n",
    "    ax.plot(datesToGraph, dataToGraph, 'b', linewidth= '3')\n",
    "    \n",
    "    ax.axhline(y=0.0, color='black', linestyle='-', linewidth= '1')\n",
    "    \n",
    "    # Get the last data point for highlighting \n",
    "    lastData = dataToGraph.values[-1]\n",
    "    lastDate = datesToGraph.values[-1]\n",
    "    \n",
    "    # All graphs named by series plus per cent in subtitle (could be better)\n",
    "    ax.set_title(seriesName + \"\\n\" + \"Per cent\")\n",
    "    \n",
    "    # X-axis labels are whole years only \n",
    "    #print(yearsOnly)\n",
    "    ax.set_xticklabels(yearsOnly)\n",
    "    \n",
    "\n",
    "                     #bottom=True, top=False, left=False, right=False)\n",
    "    \n",
    "    #If december data, add at extra year to x-axis\n",
    "    if endDate.month == 12:\n",
    "            nextYear = endDate.year + 1\n",
    "            last_day_of_last_year = endDate.replace(year = nextYear, month=12, day=31)\n",
    "            first_day_of_last_year = endDate.replace(year = nextYear, month=1, day=31)\n",
    "            \n",
    "            #Add an extra year to tick labels\n",
    "            \n",
    "            yearsOnly.append(nextYear)\n",
    "            yearsToGraph.append(first_day_of_last_year)\n",
    "            #print('This is years only')\n",
    "            #print(yearsOnly)\n",
    "            #print('This is years to graph')\n",
    "            #print(yearsToGraph)\n",
    "            ax.set_xticks(yearsToGraph)\n",
    "            ax.set_xticklabels(yearsOnly)\n",
    "            \n",
    "\n",
    "    \n",
    "    \n",
    "    #Make the chart start show whole years only\n",
    "    last_day_of_last_year = endDate.replace(month=12, day=31)\n",
    "    first_day_of_last_year = endDate.replace(month=1, day=31)\n",
    "    first_day_of_first_year = startDate.replace(month=1, day=1)\n",
    "    \n",
    "\n",
    "    #print(\"Years to graph is (altered possibly for December data) :\") \n",
    "    #print(yearsToGraph)        \n",
    "\n",
    "    \n",
    "    ax.set_xlim([first_day_of_first_year, last_day_of_last_year])\n",
    "    \n",
    "    \n",
    "    #Fonts\n",
    "    \n",
    "    #horizAxisStart = ax.get_xlim()[0]\n",
    "    #print(horizAxisStart)\n",
    "    #horizAxisEnd = ax.get_xlim()[1]\n",
    "    #print(horizAxisEnd)\n",
    "    #horizAxisLength = horizAxisEnd - horizAxisStart\n",
    "    #print()\n",
    "    \n",
    "    #vertAxisStart = ax.get_ylim()[0]\n",
    "    #print(vertAxisStart)\n",
    "    #vertAxisEnd = ax.get_ylim()[1]\n",
    "    #print(vertAxisEnd)\n",
    "    #vertAxisLength = vertAxisEnd - vertAxisStart\n",
    "    \n",
    "    ax.tick_params(left = True, right = True, labelleft=True, labelright=True)\n",
    "    \n",
    "    if lastPointOption:\n",
    "        \n",
    "        ax.plot(lastDate, lastData, 'r.', markersize= '10')\n",
    "        \n",
    "        lastDateMonth = calendar.month_name[lastDate.month] \n",
    "    \n",
    "        #Add some metadata for the last datapoint\n",
    "        textstr = \"Latest data point is \" + str(round(lastData,2)) \\\n",
    "        + \" per cent for  \\n\" + calendar.month_name[lastDate.month] + \" \" + str(lastDate.year)\n",
    "        props = dict(boxstyle='round', facecolor='none', alpha=0.5, edgecolor='none')\n",
    "        ax.text(.01,.17, textstr, transform=ax.transAxes, fontsize=10,\n",
    "            verticalalignment='top', horizontalalignment='left', bbox=props, color = 'red')\n",
    "\n",
    "    filename = seriesName + str(startDate) + str(endDate) + \".jpg\"\n",
    "    #print(filename)\n",
    "    plt.savefig(filename)"
   ]
  },
  {
   "cell_type": "code",
   "execution_count": null,
   "id": "white-nigeria",
   "metadata": {},
   "outputs": [],
   "source": []
  },
  {
   "cell_type": "code",
   "execution_count": 26,
   "id": "4c6a8c34",
   "metadata": {},
   "outputs": [
    {
     "ename": "ValueError",
     "evalue": "All arguments should have the same length. The length of column argument `df[y]` is 572, whereas the length of  previously-processed arguments ['x'] is 112",
     "output_type": "error",
     "traceback": [
      "\u001b[0;31m---------------------------------------------------------------------------\u001b[0m",
      "\u001b[0;31mValueError\u001b[0m                                Traceback (most recent call last)",
      "Cell \u001b[0;32mIn[26], line 5\u001b[0m\n\u001b[1;32m      2\u001b[0m endDateExample \u001b[38;5;241m=\u001b[39m datetime(\u001b[38;5;241m2024\u001b[39m, \u001b[38;5;241m12\u001b[39m, \u001b[38;5;241m31\u001b[39m)\n\u001b[1;32m      3\u001b[0m seriesToGraph \u001b[38;5;241m=\u001b[39m \u001b[38;5;124m'\u001b[39m\u001b[38;5;124mCredit; Non-financial Business; Monthly growth\u001b[39m\u001b[38;5;124m'\u001b[39m\n\u001b[0;32m----> 5\u001b[0m graph_series(seriesToGraph, df, startDateExample, endDateExample,\u001b[38;5;241m1\u001b[39m)\n",
      "Cell \u001b[0;32mIn[25], line 38\u001b[0m, in \u001b[0;36mgraph_series\u001b[0;34m(seriesName, data, startDate, endDate, lastPointOption)\u001b[0m\n\u001b[1;32m     35\u001b[0m matplotlib\u001b[38;5;241m.\u001b[39mrc(\u001b[38;5;124m'\u001b[39m\u001b[38;5;124mfont\u001b[39m\u001b[38;5;124m'\u001b[39m, \u001b[38;5;241m*\u001b[39m\u001b[38;5;241m*\u001b[39mfont)\n\u001b[1;32m     37\u001b[0m \u001b[38;5;66;03m# Create a figure containing a single axes.\u001b[39;00m\n\u001b[0;32m---> 38\u001b[0m fig \u001b[38;5;241m=\u001b[39m px\u001b[38;5;241m.\u001b[39mscatter(df, x\u001b[38;5;241m=\u001b[39mdatesToGraph, y\u001b[38;5;241m=\u001b[39mseriesName)\n\u001b[1;32m     42\u001b[0m fig\u001b[38;5;241m.\u001b[39mset_size_inches(\u001b[38;5;241m7\u001b[39m, \u001b[38;5;241m5\u001b[39m, forward\u001b[38;5;241m=\u001b[39m\u001b[38;5;28;01mTrue\u001b[39;00m)\n\u001b[1;32m     46\u001b[0m \u001b[38;5;66;03m#plt.rcParams.update({'font.size': 22})\u001b[39;00m\n\u001b[1;32m     47\u001b[0m \n\u001b[1;32m     48\u001b[0m \u001b[38;5;66;03m#If more than 10 years, cuts the labelling and ticks down to every second year\u001b[39;00m\n",
      "File \u001b[0;32m~/anaconda3/lib/python3.11/site-packages/plotly/express/_chart_types.py:66\u001b[0m, in \u001b[0;36mscatter\u001b[0;34m(data_frame, x, y, color, symbol, size, hover_name, hover_data, custom_data, text, facet_row, facet_col, facet_col_wrap, facet_row_spacing, facet_col_spacing, error_x, error_x_minus, error_y, error_y_minus, animation_frame, animation_group, category_orders, labels, orientation, color_discrete_sequence, color_discrete_map, color_continuous_scale, range_color, color_continuous_midpoint, symbol_sequence, symbol_map, opacity, size_max, marginal_x, marginal_y, trendline, trendline_options, trendline_color_override, trendline_scope, log_x, log_y, range_x, range_y, render_mode, title, template, width, height)\u001b[0m\n\u001b[1;32m     12\u001b[0m \u001b[38;5;28;01mdef\u001b[39;00m \u001b[38;5;21mscatter\u001b[39m(\n\u001b[1;32m     13\u001b[0m     data_frame\u001b[38;5;241m=\u001b[39m\u001b[38;5;28;01mNone\u001b[39;00m,\n\u001b[1;32m     14\u001b[0m     x\u001b[38;5;241m=\u001b[39m\u001b[38;5;28;01mNone\u001b[39;00m,\n\u001b[0;32m   (...)\u001b[0m\n\u001b[1;32m     60\u001b[0m     height\u001b[38;5;241m=\u001b[39m\u001b[38;5;28;01mNone\u001b[39;00m,\n\u001b[1;32m     61\u001b[0m ) \u001b[38;5;241m-\u001b[39m\u001b[38;5;241m>\u001b[39m go\u001b[38;5;241m.\u001b[39mFigure:\n\u001b[1;32m     62\u001b[0m \u001b[38;5;250m    \u001b[39m\u001b[38;5;124;03m\"\"\"\u001b[39;00m\n\u001b[1;32m     63\u001b[0m \u001b[38;5;124;03m    In a scatter plot, each row of `data_frame` is represented by a symbol\u001b[39;00m\n\u001b[1;32m     64\u001b[0m \u001b[38;5;124;03m    mark in 2D space.\u001b[39;00m\n\u001b[1;32m     65\u001b[0m \u001b[38;5;124;03m    \"\"\"\u001b[39;00m\n\u001b[0;32m---> 66\u001b[0m     \u001b[38;5;28;01mreturn\u001b[39;00m make_figure(args\u001b[38;5;241m=\u001b[39m\u001b[38;5;28mlocals\u001b[39m(), constructor\u001b[38;5;241m=\u001b[39mgo\u001b[38;5;241m.\u001b[39mScatter)\n",
      "File \u001b[0;32m~/anaconda3/lib/python3.11/site-packages/plotly/express/_core.py:1990\u001b[0m, in \u001b[0;36mmake_figure\u001b[0;34m(args, constructor, trace_patch, layout_patch)\u001b[0m\n\u001b[1;32m   1987\u001b[0m layout_patch \u001b[38;5;241m=\u001b[39m layout_patch \u001b[38;5;129;01mor\u001b[39;00m {}\n\u001b[1;32m   1988\u001b[0m apply_default_cascade(args)\n\u001b[0;32m-> 1990\u001b[0m args \u001b[38;5;241m=\u001b[39m build_dataframe(args, constructor)\n\u001b[1;32m   1991\u001b[0m \u001b[38;5;28;01mif\u001b[39;00m constructor \u001b[38;5;129;01min\u001b[39;00m [go\u001b[38;5;241m.\u001b[39mTreemap, go\u001b[38;5;241m.\u001b[39mSunburst, go\u001b[38;5;241m.\u001b[39mIcicle] \u001b[38;5;129;01mand\u001b[39;00m args[\u001b[38;5;124m\"\u001b[39m\u001b[38;5;124mpath\u001b[39m\u001b[38;5;124m\"\u001b[39m] \u001b[38;5;129;01mis\u001b[39;00m \u001b[38;5;129;01mnot\u001b[39;00m \u001b[38;5;28;01mNone\u001b[39;00m:\n\u001b[1;32m   1992\u001b[0m     args \u001b[38;5;241m=\u001b[39m process_dataframe_hierarchy(args)\n",
      "File \u001b[0;32m~/anaconda3/lib/python3.11/site-packages/plotly/express/_core.py:1405\u001b[0m, in \u001b[0;36mbuild_dataframe\u001b[0;34m(args, constructor)\u001b[0m\n\u001b[1;32m   1402\u001b[0m     args[\u001b[38;5;124m\"\u001b[39m\u001b[38;5;124mcolor\u001b[39m\u001b[38;5;124m\"\u001b[39m] \u001b[38;5;241m=\u001b[39m \u001b[38;5;28;01mNone\u001b[39;00m\n\u001b[1;32m   1403\u001b[0m \u001b[38;5;66;03m# now that things have been prepped, we do the systematic rewriting of `args`\u001b[39;00m\n\u001b[0;32m-> 1405\u001b[0m df_output, wide_id_vars \u001b[38;5;241m=\u001b[39m process_args_into_dataframe(\n\u001b[1;32m   1406\u001b[0m     args, wide_mode, var_name, value_name\n\u001b[1;32m   1407\u001b[0m )\n\u001b[1;32m   1409\u001b[0m \u001b[38;5;66;03m# now that `df_output` exists and `args` contains only references, we complete\u001b[39;00m\n\u001b[1;32m   1410\u001b[0m \u001b[38;5;66;03m# the special-case and wide-mode handling by further rewriting args and/or mutating\u001b[39;00m\n\u001b[1;32m   1411\u001b[0m \u001b[38;5;66;03m# df_output\u001b[39;00m\n\u001b[1;32m   1413\u001b[0m count_name \u001b[38;5;241m=\u001b[39m _escape_col_name(df_output, \u001b[38;5;124m\"\u001b[39m\u001b[38;5;124mcount\u001b[39m\u001b[38;5;124m\"\u001b[39m, [var_name, value_name])\n",
      "File \u001b[0;32m~/anaconda3/lib/python3.11/site-packages/plotly/express/_core.py:1209\u001b[0m, in \u001b[0;36mprocess_args_into_dataframe\u001b[0;34m(args, wide_mode, var_name, value_name)\u001b[0m\n\u001b[1;32m   1207\u001b[0m         \u001b[38;5;28;01mraise\u001b[39;00m \u001b[38;5;167;01mValueError\u001b[39;00m(err_msg)\n\u001b[1;32m   1208\u001b[0m \u001b[38;5;28;01melif\u001b[39;00m length \u001b[38;5;129;01mand\u001b[39;00m \u001b[38;5;28mlen\u001b[39m(df_input[argument]) \u001b[38;5;241m!=\u001b[39m length:\n\u001b[0;32m-> 1209\u001b[0m     \u001b[38;5;28;01mraise\u001b[39;00m \u001b[38;5;167;01mValueError\u001b[39;00m(\n\u001b[1;32m   1210\u001b[0m         \u001b[38;5;124m\"\u001b[39m\u001b[38;5;124mAll arguments should have the same length. \u001b[39m\u001b[38;5;124m\"\u001b[39m\n\u001b[1;32m   1211\u001b[0m         \u001b[38;5;124m\"\u001b[39m\u001b[38;5;124mThe length of column argument `df[\u001b[39m\u001b[38;5;132;01m%s\u001b[39;00m\u001b[38;5;124m]` is \u001b[39m\u001b[38;5;132;01m%d\u001b[39;00m\u001b[38;5;124m, whereas the \u001b[39m\u001b[38;5;124m\"\u001b[39m\n\u001b[1;32m   1212\u001b[0m         \u001b[38;5;124m\"\u001b[39m\u001b[38;5;124mlength of  previously-processed arguments \u001b[39m\u001b[38;5;132;01m%s\u001b[39;00m\u001b[38;5;124m is \u001b[39m\u001b[38;5;132;01m%d\u001b[39;00m\u001b[38;5;124m\"\u001b[39m\n\u001b[1;32m   1213\u001b[0m         \u001b[38;5;241m%\u001b[39m (\n\u001b[1;32m   1214\u001b[0m             field,\n\u001b[1;32m   1215\u001b[0m             \u001b[38;5;28mlen\u001b[39m(df_input[argument]),\n\u001b[1;32m   1216\u001b[0m             \u001b[38;5;28mstr\u001b[39m(\u001b[38;5;28mlist\u001b[39m(df_output\u001b[38;5;241m.\u001b[39mcolumns)),\n\u001b[1;32m   1217\u001b[0m             length,\n\u001b[1;32m   1218\u001b[0m         )\n\u001b[1;32m   1219\u001b[0m     )\n\u001b[1;32m   1220\u001b[0m \u001b[38;5;28;01melse\u001b[39;00m:\n\u001b[1;32m   1221\u001b[0m     col_name \u001b[38;5;241m=\u001b[39m \u001b[38;5;28mstr\u001b[39m(argument)\n",
      "\u001b[0;31mValueError\u001b[0m: All arguments should have the same length. The length of column argument `df[y]` is 572, whereas the length of  previously-processed arguments ['x'] is 112"
     ]
    }
   ],
   "source": [
    "startDateExample = datetime(2015, 1, 1)\n",
    "endDateExample = datetime(2024, 12, 31)\n",
    "seriesToGraph = 'Credit; Non-financial Business; Monthly growth'\n",
    "\n",
    "graph_series(seriesToGraph, df, startDateExample, endDateExample,1)"
   ]
  },
  {
   "cell_type": "code",
   "execution_count": null,
   "id": "harmful-australian",
   "metadata": {
    "tags": [
     "{",
     "\"tags\":",
     "[",
     "\"hide-input\"",
     "]",
     "}"
    ]
   },
   "outputs": [],
   "source": [
    "startDateExample = datetime(2015, 1, 1)\n",
    "endDateExample = datetime(2024, 12, 31)\n",
    "seriesToGraph = 'Credit; Housing; Monthly growth'\n",
    "\n",
    "graph_series(seriesToGraph, df, startDateExample, endDateExample, 1)\n",
    "\n",
    "\n",
    "\n"
   ]
  },
  {
   "cell_type": "code",
   "execution_count": null,
   "id": "2ced27ca",
   "metadata": {},
   "outputs": [],
   "source": [
    "startDateExample = datetime(2015, 1, 1)\n",
    "endDateExample = datetime(2024, 12, 31)\n",
    "seriesToGraph = 'Credit; Owner-occupier housing; Monthly growth'\n",
    "\n",
    "graph_series(seriesToGraph, df, startDateExample, endDateExample,1)"
   ]
  },
  {
   "cell_type": "code",
   "execution_count": null,
   "id": "departmental-throat",
   "metadata": {},
   "outputs": [],
   "source": [
    "startDateExample = datetime(2015, 1, 1)\n",
    "endDateExample = datetime(2024, 12, 31)\n",
    "seriesToGraph = 'Credit; Investor housing; Monthly growth'\n",
    "\n",
    "graph_series(seriesToGraph, df, startDateExample, endDateExample,1)"
   ]
  },
  {
   "cell_type": "code",
   "execution_count": null,
   "id": "wanted-child",
   "metadata": {},
   "outputs": [],
   "source": []
  },
  {
   "cell_type": "code",
   "execution_count": null,
   "id": "detected-trash",
   "metadata": {},
   "outputs": [],
   "source": [
    "startDateExample = datetime(2015, 1, 1)\n",
    "endDateExample = datetime(2024, 12, 31)\n",
    "seriesToGraph = 'Credit; Other personal; Monthly growth'\n",
    "\n",
    "graph_series(seriesToGraph, df, startDateExample, endDateExample,1)"
   ]
  },
  {
   "cell_type": "code",
   "execution_count": null,
   "id": "interior-wrong",
   "metadata": {},
   "outputs": [],
   "source": [
    "startDateExample = datetime(2004, 1, 1)\n",
    "endDateExample = datetime(2024, 12, 31)\n",
    "seriesToGraph = 'Credit; Non-financial Business; 12-month ended growth'\n",
    "\n",
    "graph_series(seriesToGraph, df, startDateExample, endDateExample,1)"
   ]
  },
  {
   "cell_type": "code",
   "execution_count": null,
   "id": "7e488a9c",
   "metadata": {},
   "outputs": [],
   "source": [
    "startDateExample = datetime(2004, 1, 1)\n",
    "endDateExample = datetime(2024, 12, 31)\n",
    "seriesToGraph = 'Credit; Housing; 12-month ended growth'\n",
    "\n",
    "graph_series(seriesToGraph, df, startDateExample, endDateExample,1)"
   ]
  },
  {
   "cell_type": "code",
   "execution_count": null,
   "id": "lonely-times",
   "metadata": {},
   "outputs": [],
   "source": [
    "startDateExample = datetime(2004, 1, 1)\n",
    "endDateExample = datetime(2024, 12, 31)\n",
    "seriesToGraph = 'Credit; Owner-occupier housing; 12-month ended growth'\n",
    "\n",
    "graph_series(seriesToGraph, df, startDateExample, endDateExample,1)"
   ]
  },
  {
   "cell_type": "code",
   "execution_count": null,
   "id": "functional-fantasy",
   "metadata": {},
   "outputs": [],
   "source": [
    "startDateExample = datetime(2004, 1, 1)\n",
    "endDateExample = datetime(2024, 12, 31)\n",
    "seriesToGraph = 'Credit; Investor housing; 12-month ended growth'\n",
    "\n",
    "graph_series(seriesToGraph, df, startDateExample, endDateExample,1)"
   ]
  },
  {
   "cell_type": "code",
   "execution_count": null,
   "id": "controlling-penalty",
   "metadata": {
    "tags": [
     "\"hide-input\""
    ]
   },
   "outputs": [],
   "source": [
    "startDateExample = datetime(2004, 1, 1)\n",
    "endDateExample = datetime(2024, 12, 31)\n",
    "seriesToGraph = 'Credit; Other personal; 12-month ended growth'\n",
    "\n",
    "graph_series(seriesToGraph, df, startDateExample, endDateExample,1)"
   ]
  },
  {
   "cell_type": "code",
   "execution_count": null,
   "id": "9020d390",
   "metadata": {},
   "outputs": [],
   "source": []
  }
 ],
 "metadata": {
  "celltoolbar": "Tags",
  "kernelspec": {
   "display_name": "Python 3 (ipykernel)",
   "language": "python",
   "name": "python3"
  },
  "language_info": {
   "codemirror_mode": {
    "name": "ipython",
    "version": 3
   },
   "file_extension": ".py",
   "mimetype": "text/x-python",
   "name": "python",
   "nbconvert_exporter": "python",
   "pygments_lexer": "ipython3",
   "version": "3.11.5"
  }
 },
 "nbformat": 4,
 "nbformat_minor": 5
}
